{
 "cells": [
  {
   "cell_type": "code",
   "execution_count": null,
   "metadata": {
    "collapsed": true
   },
   "outputs": [],
   "source": [
    "import re\n",
    "import string\n",
    "\n",
    "def preProcessTweet(tweet):\n",
    "\n",
    "    tweet = tweet.lower()\n",
    "    tweet = \" \".join(tweet.split())\n",
    "    tweet = tweet.translate(string.maketrans(\"\",\"\"), string.punctuation)\n",
    "    \n",
    "    return tweet"
   ]
  },
  {
   "cell_type": "code",
   "execution_count": null,
   "metadata": {
    "collapsed": true
   },
   "outputs": [],
   "source": [
    "from nltk.corpus import stopwords\n",
    "from nltk.tokenize import word_tokenize\n",
    "import re\n",
    "\n",
    "stopwords = stopwords.words(\"english\")\n",
    "def removeCharRepetition(word):\n",
    "    pattern = re.compile(r\"(.)\\1{1,}\", re.DOTALL)\n",
    "    return pattern.sub(r\"\\1\\1\", word)\n",
    "\n",
    "def getFeatureVector(tweet):\n",
    "    word_list = word_tokenize(tweet)\n",
    "    processed_word_list = [removeCharRepetition(w) for w in word_list if ( (w not in stopwords) and (not(w.isdigit())) and (len(w) > 1) )]\n",
    "\n",
    "    return processed_word_list"
   ]
  }
 ],
 "metadata": {
  "kernelspec": {
   "display_name": "Python 3",
   "language": "python",
   "name": "python3"
  },
  "language_info": {
   "codemirror_mode": {
    "name": "ipython",
    "version": 3
   },
   "file_extension": ".py",
   "mimetype": "text/x-python",
   "name": "python",
   "nbconvert_exporter": "python",
   "pygments_lexer": "ipython3",
   "version": "3.4.3"
  }
 },
 "nbformat": 4,
 "nbformat_minor": 0
}
